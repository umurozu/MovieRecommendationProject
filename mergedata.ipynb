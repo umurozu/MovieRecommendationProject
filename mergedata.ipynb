{
 "cells": [
  {
   "cell_type": "code",
   "execution_count": 16,
   "metadata": {},
   "outputs": [],
   "source": [
    "# ## Hücre 1: Gerekli Kütüphanelerin Yüklenmesi\n",
    "import pandas as pd"
   ]
  },
  {
   "cell_type": "code",
   "execution_count": 17,
   "metadata": {},
   "outputs": [
    {
     "name": "stdout",
     "output_type": "stream",
     "text": [
      "Datasets loaded successfully.\n"
     ]
    }
   ],
   "source": [
    "# ## Hücre 2: Veri Setlerinin Yüklenmesi\n",
    "# MovieLens ve IMDb veri setlerini yükleme\n",
    "ratings_data = pd.read_csv('ratings.csv')\n",
    "links_data = pd.read_csv('links.csv')\n",
    "movies_data = pd.read_csv('movies.csv')\n",
    "imdb_data = pd.read_csv('movie_metadata.csv')\n",
    "\n",
    "print(\"Datasets loaded successfully.\")"
   ]
  },
  {
   "cell_type": "code",
   "execution_count": 18,
   "metadata": {},
   "outputs": [
    {
     "name": "stdout",
     "output_type": "stream",
     "text": [
      "MovieLens and Links datasets merged successfully.\n",
      "\n",
      "MovieLinks Dataset Head:\n",
      "   movieId                               title  \\\n",
      "0        1                    Toy Story (1995)   \n",
      "1        2                      Jumanji (1995)   \n",
      "2        3             Grumpier Old Men (1995)   \n",
      "3        4            Waiting to Exhale (1995)   \n",
      "4        5  Father of the Bride Part II (1995)   \n",
      "\n",
      "                                        genres  imdbId   tmdbId  \n",
      "0  Adventure|Animation|Children|Comedy|Fantasy  114709    862.0  \n",
      "1                   Adventure|Children|Fantasy  113497   8844.0  \n",
      "2                               Comedy|Romance  113228  15602.0  \n",
      "3                         Comedy|Drama|Romance  114885  31357.0  \n",
      "4                                       Comedy  113041  11862.0  \n"
     ]
    }
   ],
   "source": [
    "# ## Hücre 3: MovieLens ve Links Veri Setlerinin Birleştirilmesi\n",
    "# MovieLens'in movies.csv dosyasını links.csv ile birleştiriyoruz\n",
    "movie_links = pd.merge(movies_data, links_data, on='movieId', how='inner')\n",
    "\n",
    "print(\"MovieLens and Links datasets merged successfully.\")\n",
    "print(\"\\nMovieLinks Dataset Head:\")\n",
    "print(movie_links.head())"
   ]
  },
  {
   "cell_type": "code",
   "execution_count": 19,
   "metadata": {},
   "outputs": [
    {
     "name": "stdout",
     "output_type": "stream",
     "text": [
      "imdb_id extraction successful.\n",
      "\n",
      "Extracted IMDb IDs:\n",
      "                                     movie_imdb_link  imdb_id\n",
      "0  http://www.imdb.com/title/tt0499549/?ref_=fn_t...  0499549\n",
      "1  http://www.imdb.com/title/tt0449088/?ref_=fn_t...  0449088\n",
      "2  http://www.imdb.com/title/tt2379713/?ref_=fn_t...  2379713\n",
      "3  http://www.imdb.com/title/tt1345836/?ref_=fn_t...  1345836\n",
      "4  http://www.imdb.com/title/tt5289954/?ref_=fn_t...  5289954\n",
      "MovieLens-Links dataset successfully merged with IMDb dataset.\n",
      "\n",
      "Final Merged Dataset Head:\n",
      "   movieId                           title  \\\n",
      "0        1                Toy Story (1995)   \n",
      "1       10                GoldenEye (1995)   \n",
      "2       11  American President, The (1995)   \n",
      "3       14                    Nixon (1995)   \n",
      "4       15         Cutthroat Island (1995)   \n",
      "\n",
      "                                      genres_x   imdbId   tmdbId  \\\n",
      "0  Adventure|Animation|Children|Comedy|Fantasy  0114709    862.0   \n",
      "1                    Action|Adventure|Thriller  0113189    710.0   \n",
      "2                         Comedy|Drama|Romance  0112346   9087.0   \n",
      "3                                        Drama  0113987  10858.0   \n",
      "4                     Action|Adventure|Romance  0112760   1408.0   \n",
      "\n",
      "              color    director_name  num_critic_for_reviews  duration  \\\n",
      "0             Color    John Lasseter                   166.0      74.0   \n",
      "1             Color  Martin Campbell                   137.0     130.0   \n",
      "2             Color       Rob Reiner                    75.0     114.0   \n",
      "3   Black and White     Oliver Stone                    83.0     212.0   \n",
      "4             Color     Renny Harlin                    61.0     124.0   \n",
      "\n",
      "   director_facebook_likes  ...  language country  content_rating      budget  \\\n",
      "0                    487.0  ...   English     USA               G  30000000.0   \n",
      "1                    258.0  ...   English      UK           PG-13  58000000.0   \n",
      "2                      0.0  ...   English     USA           PG-13  62000000.0   \n",
      "3                      0.0  ...   English     USA               R  50000000.0   \n",
      "4                    212.0  ...   English     USA           PG-13  98000000.0   \n",
      "\n",
      "  title_year actor_2_facebook_likes imdb_score  aspect_ratio  \\\n",
      "0     1995.0                 1000.0        8.3          1.85   \n",
      "1     1995.0                  387.0        7.2          2.35   \n",
      "2     1995.0                  517.0        6.8          2.35   \n",
      "3     1995.0                 5000.0        7.1          2.35   \n",
      "4     1995.0                  903.0        5.6          2.35   \n",
      "\n",
      "   movie_facebook_likes  imdb_id  \n",
      "0                     0  0114709  \n",
      "1                     0  0113189  \n",
      "2                     0  0112346  \n",
      "3                   915  0113987  \n",
      "4                  1000  0112760  \n",
      "\n",
      "[5 rows x 34 columns]\n"
     ]
    }
   ],
   "source": [
    "# ## Hücre 4: IMDb Veri Seti ile Birleştirme\n",
    "# IMDb veri setinden movie_imdb_link sütunundan imdb_id çıkarma\n",
    "imdb_data['imdb_id'] = imdb_data['movie_imdb_link'].apply(lambda x: x.split('/')[4][2:] if isinstance(x, str) and 'tt' in x else None)\n",
    "if imdb_data['imdb_id'].isnull().all():\n",
    "    print(\"Error: imdb_id extraction failed. Please check the 'movie_imdb_link' column format.\")\n",
    "else:\n",
    "    print(\"imdb_id extraction successful.\")\n",
    "    print(\"\\nExtracted IMDb IDs:\")\n",
    "    print(imdb_data[['movie_imdb_link', 'imdb_id']].head())\n",
    "\n",
    "\n",
    "# links.csv'deki imdbId formatını uygun hale getirme\n",
    "movie_links['imdbId'] = movie_links['imdbId'].astype(str).str.zfill(7)\n",
    "\n",
    "# IMDb veri setiyle birleştirme\n",
    "final_merge = pd.merge(movie_links, imdb_data, left_on='imdbId', right_on='imdb_id', how='inner')\n",
    "\n",
    "print(\"MovieLens-Links dataset successfully merged with IMDb dataset.\")\n",
    "print(\"\\nFinal Merged Dataset Head:\")\n",
    "print(final_merge.head())\n"
   ]
  },
  {
   "cell_type": "code",
   "execution_count": 20,
   "metadata": {},
   "outputs": [
    {
     "name": "stdout",
     "output_type": "stream",
     "text": [
      "\n",
      "Final Merged Dataset Info:\n",
      "<class 'pandas.core.frame.DataFrame'>\n",
      "RangeIndex: 3649 entries, 0 to 3648\n",
      "Data columns (total 34 columns):\n",
      " #   Column                     Non-Null Count  Dtype  \n",
      "---  ------                     --------------  -----  \n",
      " 0   movieId                    3649 non-null   int64  \n",
      " 1   title                      3649 non-null   object \n",
      " 2   genres_x                   3649 non-null   object \n",
      " 3   imdbId                     3649 non-null   object \n",
      " 4   tmdbId                     3647 non-null   float64\n",
      " 5   color                      3647 non-null   object \n",
      " 6   director_name              3644 non-null   object \n",
      " 7   num_critic_for_reviews     3649 non-null   float64\n",
      " 8   duration                   3648 non-null   float64\n",
      " 9   director_facebook_likes    3644 non-null   float64\n",
      " 10  actor_3_facebook_likes     3644 non-null   float64\n",
      " 11  actor_2_name               3648 non-null   object \n",
      " 12  actor_1_facebook_likes     3649 non-null   float64\n",
      " 13  gross                      3392 non-null   float64\n",
      " 14  genres_y                   3649 non-null   object \n",
      " 15  actor_1_name               3649 non-null   object \n",
      " 16  movie_title                3649 non-null   object \n",
      " 17  num_voted_users            3649 non-null   int64  \n",
      " 18  cast_total_facebook_likes  3649 non-null   int64  \n",
      " 19  actor_3_name               3644 non-null   object \n",
      " 20  facenumber_in_poster       3644 non-null   float64\n",
      " 21  plot_keywords              3640 non-null   object \n",
      " 22  movie_imdb_link            3649 non-null   object \n",
      " 23  num_user_for_reviews       3649 non-null   float64\n",
      " 24  language                   3645 non-null   object \n",
      " 25  country                    3649 non-null   object \n",
      " 26  content_rating             3625 non-null   object \n",
      " 27  budget                     3479 non-null   float64\n",
      " 28  title_year                 3644 non-null   float64\n",
      " 29  actor_2_facebook_likes     3648 non-null   float64\n",
      " 30  imdb_score                 3649 non-null   float64\n",
      " 31  aspect_ratio               3616 non-null   float64\n",
      " 32  movie_facebook_likes       3649 non-null   int64  \n",
      " 33  imdb_id                    3649 non-null   object \n",
      "dtypes: float64(14), int64(4), object(16)\n",
      "memory usage: 969.4+ KB\n",
      "None\n"
     ]
    }
   ],
   "source": [
    "# ## Hücre 5: Nihai Veri Setinin İncelenmesi\n",
    "# Veri tipi ve format kontrolü\n",
    "print(\"\\nFinal Merged Dataset Info:\")\n",
    "print(final_merge.info())"
   ]
  },
  {
   "cell_type": "code",
   "execution_count": 26,
   "metadata": {},
   "outputs": [
    {
     "name": "stdout",
     "output_type": "stream",
     "text": [
      "\n",
      "Missing Values in Final Dataset:\n",
      "movieId              0\n",
      "title                0\n",
      "genres               0\n",
      "director_name        5\n",
      "imdb_score           0\n",
      "duration             1\n",
      "budget             170\n",
      "language             4\n",
      "country              0\n",
      "content_rating      24\n",
      "num_voted_users      0\n",
      "plot_keywords        9\n",
      "dtype: int64\n"
     ]
    },
    {
     "name": "stderr",
     "output_type": "stream",
     "text": [
      "C:\\Users\\umuro\\AppData\\Local\\Temp\\ipykernel_9976\\596885158.py:13: SettingWithCopyWarning: \n",
      "A value is trying to be set on a copy of a slice from a DataFrame\n",
      "\n",
      "See the caveats in the documentation: https://pandas.pydata.org/pandas-docs/stable/user_guide/indexing.html#returning-a-view-versus-a-copy\n",
      "  final_data.rename(columns={'genres_x': 'genres'}, inplace=True)\n"
     ]
    }
   ],
   "source": [
    "# ## Hücre 6: Temizlik ve Nihai Düzenlemeler\n",
    "# Kullanılacak kolonların belirlenmesi\n",
    "columns_to_keep = [\n",
    "    'movieId', 'title', 'genres_x', 'director_name', 'imdb_score',\n",
    "    'duration', 'budget', 'language', 'country', 'content_rating', \n",
    "    'num_voted_users', 'plot_keywords'\n",
    "]\n",
    "\n",
    "# Final veri setini oluşturma\n",
    "final_data = final_merge[columns_to_keep]\n",
    "\n",
    "# Kolonların yeniden adlandırılması\n",
    "final_data.rename(columns={'genres_x': 'genres'}, inplace=True)\n",
    "\n",
    "# Eksik değerlerin kontrolü ve temizliği\n",
    "print(\"\\nMissing Values in Final Dataset:\")\n",
    "print(final_data.isnull().sum())\n",
    "\n",
    "# Eksik değerleri temizleme\n",
    "final_data = final_data.dropna()\n",
    "\n"
   ]
  },
  {
   "cell_type": "code",
   "execution_count": 27,
   "metadata": {},
   "outputs": [
    {
     "name": "stdout",
     "output_type": "stream",
     "text": [
      "<class 'pandas.core.frame.DataFrame'>\n",
      "Index: 3451 entries, 0 to 3646\n",
      "Data columns (total 12 columns):\n",
      " #   Column           Non-Null Count  Dtype  \n",
      "---  ------           --------------  -----  \n",
      " 0   movieId          3451 non-null   int64  \n",
      " 1   title            3451 non-null   object \n",
      " 2   genres           3451 non-null   object \n",
      " 3   director_name    3451 non-null   object \n",
      " 4   imdb_score       3451 non-null   float64\n",
      " 5   duration         3451 non-null   float64\n",
      " 6   budget           3451 non-null   float64\n",
      " 7   language         3451 non-null   object \n",
      " 8   country          3451 non-null   object \n",
      " 9   content_rating   3451 non-null   object \n",
      " 10  num_voted_users  3451 non-null   int64  \n",
      " 11  plot_keywords    3451 non-null   object \n",
      "dtypes: float64(3), int64(2), object(7)\n",
      "memory usage: 350.5+ KB\n"
     ]
    }
   ],
   "source": [
    "final_data.info()"
   ]
  },
  {
   "cell_type": "code",
   "execution_count": 28,
   "metadata": {},
   "outputs": [
    {
     "name": "stdout",
     "output_type": "stream",
     "text": [
      "\n",
      "Final dataset has been saved as 'final_user_movie_dataset.csv'.\n"
     ]
    }
   ],
   "source": [
    "# ## Hücre 7: Nihai Veri Setinin Kaydedilmesi\n",
    "final_data.to_csv('final_user_movie_dataset.csv', index=False)\n",
    "print(\"\\nFinal dataset has been saved as 'final_user_movie_dataset.csv'.\")"
   ]
  }
 ],
 "metadata": {
  "kernelspec": {
   "display_name": "base",
   "language": "python",
   "name": "python3"
  },
  "language_info": {
   "codemirror_mode": {
    "name": "ipython",
    "version": 3
   },
   "file_extension": ".py",
   "mimetype": "text/x-python",
   "name": "python",
   "nbconvert_exporter": "python",
   "pygments_lexer": "ipython3",
   "version": "3.11.5"
  }
 },
 "nbformat": 4,
 "nbformat_minor": 2
}
