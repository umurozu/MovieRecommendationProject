{
 "cells": [
  {
   "cell_type": "code",
   "execution_count": 14,
   "metadata": {},
   "outputs": [],
   "source": [
    "# ## Hücre 1: Gerekli Kütüphanelerin Yüklenmesi\n",
    "import pandas as pd\n",
    "from sklearn.model_selection import train_test_split\n",
    "from sklearn.tree import DecisionTreeRegressor\n",
    "from sklearn.linear_model import LinearRegression, Ridge, Lasso, ElasticNet\n",
    "from sklearn.svm import SVR\n",
    "from sklearn.neighbors import KNeighborsRegressor\n",
    "from sklearn.ensemble import GradientBoostingRegressor\n",
    "from sklearn.metrics import mean_absolute_error, mean_squared_error\n",
    "import numpy as np\n",
    "import matplotlib.pyplot as plt"
   ]
  },
  {
   "cell_type": "code",
   "execution_count": 15,
   "metadata": {},
   "outputs": [],
   "source": [
    "# ## Hücre 2: Veri Setlerinin Yüklenmesi\n",
    "ratings = pd.read_csv('ratings.csv')\n",
    "movies = pd.read_csv('movies.csv')"
   ]
  },
  {
   "cell_type": "code",
   "execution_count": 16,
   "metadata": {},
   "outputs": [],
   "source": [
    "# ## Hücre 3: Veri Ön İşleme\n",
    "# Gereksiz sütunların kaldırılması\n",
    "ratings = ratings.drop(columns=['timestamp'])\n",
    "# Veri setlerinin birleştirilmesi\n",
    "merged_df = pd.merge(ratings, movies, on='movieId')\n",
    "# Türlerin ayrıştırılması\n",
    "genres_split = merged_df['genres'].str.get_dummies(sep='|')\n",
    "merged_df = pd.concat([merged_df, genres_split], axis=1)"
   ]
  },
  {
   "cell_type": "code",
   "execution_count": 17,
   "metadata": {},
   "outputs": [],
   "source": [
    "# ## Hücre 4: Özet İstatistiklerin Hesaplanması\n",
    "# Kullanıcı başına ortalama puan\n",
    "user_avg_rating = merged_df.groupby('userId')['rating'].mean().reset_index()\n",
    "user_avg_rating.rename(columns={'rating': 'avg_user_rating'}, inplace=True)\n",
    "\n",
    "# Film başına ortalama puan\n",
    "movie_avg_rating = merged_df.groupby('movieId')['rating'].mean().reset_index()\n",
    "movie_avg_rating.rename(columns={'rating': 'avg_movie_rating'}, inplace=True)\n",
    "\n",
    "# Kullanıcı-tür ortalamaları\n",
    "user_genre_avg = merged_df.groupby('userId')[list(genres_split.columns)].mean().reset_index()\n",
    "user_genre_avg.columns = ['userId'] + [f'user_avg_{col}' for col in genres_split.columns]\n",
    "merged_df = pd.merge(merged_df, user_genre_avg, on='userId', how='left')\n",
    "merged_df = pd.merge(merged_df, user_avg_rating, on='userId', how='left')\n",
    "merged_df = pd.merge(merged_df, movie_avg_rating, on='movieId', how='left')"
   ]
  },
  {
   "cell_type": "code",
   "execution_count": 18,
   "metadata": {},
   "outputs": [],
   "source": [
    "# ## Hücre 5: Özelliklerin ve Hedefin Ayrıştırılması\n",
    "features_with_genres = pd.concat([merged_df[['avg_user_rating', 'avg_movie_rating'] + list(user_genre_avg.columns[1:])]], axis=1)\n",
    "target = merged_df['rating']"
   ]
  },
  {
   "cell_type": "code",
   "execution_count": 19,
   "metadata": {},
   "outputs": [],
   "source": [
    "# ## Hücre 6: Veri Setini Eğitim ve Test Olarak Bölme\n",
    "X_train_with_genres, X_test_with_genres, y_train, y_test = train_test_split(features_with_genres, target, test_size=0.2, random_state=42)\n"
   ]
  },
  {
   "cell_type": "code",
   "execution_count": 20,
   "metadata": {},
   "outputs": [],
   "source": [
    "# ## Hücre 7: Decision Tree Modeli\n",
    "# Modelin eğitimi\n",
    "dt_model = DecisionTreeRegressor(random_state=42)\n",
    "dt_model.fit(X_train_with_genres, y_train)\n",
    "y_pred_dt = dt_model.predict(X_test_with_genres)\n",
    "mae_dt = mean_absolute_error(y_test, y_pred_dt)\n",
    "rmse_dt = np.sqrt(mean_squared_error(y_test, y_pred_dt))\n"
   ]
  },
  {
   "cell_type": "code",
   "execution_count": 21,
   "metadata": {},
   "outputs": [],
   "source": [
    "# ## Hücre 8: Linear Regression Modeli\n",
    "lr_model = LinearRegression()\n",
    "lr_model.fit(X_train_with_genres, y_train)\n",
    "y_pred_lr = lr_model.predict(X_test_with_genres)\n",
    "mae_lr = mean_absolute_error(y_test, y_pred_lr)\n",
    "rmse_lr = np.sqrt(mean_squared_error(y_test, y_pred_lr))"
   ]
  },
  {
   "cell_type": "code",
   "execution_count": 22,
   "metadata": {},
   "outputs": [],
   "source": [
    "# ## Hücre 9: Ridge Regression Modeli\n",
    "ridge_model = Ridge(alpha=1.0, random_state=42)\n",
    "ridge_model.fit(X_train_with_genres, y_train)\n",
    "y_pred_ridge = ridge_model.predict(X_test_with_genres)\n",
    "mae_ridge = mean_absolute_error(y_test, y_pred_ridge)\n",
    "rmse_ridge = np.sqrt(mean_squared_error(y_test, y_pred_ridge))"
   ]
  },
  {
   "cell_type": "code",
   "execution_count": 23,
   "metadata": {},
   "outputs": [],
   "source": [
    "# ## Hücre 10: Lasso Regression Modeli\n",
    "lasso_model = Lasso(alpha=0.1, random_state=42)\n",
    "lasso_model.fit(X_train_with_genres, y_train)\n",
    "y_pred_lasso = lasso_model.predict(X_test_with_genres)\n",
    "mae_lasso = mean_absolute_error(y_test, y_pred_lasso)\n",
    "rmse_lasso = np.sqrt(mean_squared_error(y_test, y_pred_lasso))"
   ]
  },
  {
   "cell_type": "code",
   "execution_count": 24,
   "metadata": {},
   "outputs": [],
   "source": [
    "# ## Hücre 11: ElasticNet Regression Modeli\n",
    "elasticnet_model = ElasticNet(alpha=0.1, l1_ratio=0.5, random_state=42)\n",
    "elasticnet_model.fit(X_train_with_genres, y_train)\n",
    "y_pred_elasticnet = elasticnet_model.predict(X_test_with_genres)\n",
    "mae_elasticnet = mean_absolute_error(y_test, y_pred_elasticnet)\n",
    "rmse_elasticnet = np.sqrt(mean_squared_error(y_test, y_pred_elasticnet))"
   ]
  },
  {
   "cell_type": "code",
   "execution_count": 25,
   "metadata": {},
   "outputs": [],
   "source": [
    "# ## Hücre 13: K-Nearest Neighbors Regression (KNN)\n",
    "knn_model = KNeighborsRegressor(n_neighbors=3)\n",
    "knn_model.fit(X_train_with_genres, y_train)\n",
    "y_pred_knn = knn_model.predict(X_test_with_genres)\n",
    "mae_knn = mean_absolute_error(y_test, y_pred_knn)\n",
    "rmse_knn = np.sqrt(mean_squared_error(y_test, y_pred_knn))"
   ]
  },
  {
   "cell_type": "code",
   "execution_count": 26,
   "metadata": {},
   "outputs": [],
   "source": [
    "# ## Hücre 14: Gradient Boosting Regression\n",
    "gb_model = GradientBoostingRegressor(random_state=42)\n",
    "gb_model.fit(X_train_with_genres, y_train)\n",
    "y_pred_gb = gb_model.predict(X_test_with_genres)\n",
    "mae_gb = mean_absolute_error(y_test, y_pred_gb)\n",
    "rmse_gb = np.sqrt(mean_squared_error(y_test, y_pred_gb))"
   ]
  },
  {
   "cell_type": "code",
   "execution_count": 27,
   "metadata": {},
   "outputs": [
    {
     "name": "stdout",
     "output_type": "stream",
     "text": [
      "                   Model  Mean Absolute Error (MAE)  \\\n",
      "0          Decision Tree                   0.779172   \n",
      "1      Linear Regression                   0.608100   \n",
      "2       Ridge Regression                   0.608043   \n",
      "3       Lasso Regression                   0.650907   \n",
      "4  ElasticNet Regression                   0.636019   \n",
      "5         KNN Regression                   0.673203   \n",
      "6      Gradient Boosting                   0.603701   \n",
      "\n",
      "   Root Mean Squared Error (RMSE)  \n",
      "0                        1.084865  \n",
      "1                        0.801263  \n",
      "2                        0.801203  \n",
      "3                        0.844350  \n",
      "4                        0.829568  \n",
      "5                        0.898537  \n",
      "6                        0.795772  \n"
     ]
    }
   ],
   "source": [
    "# ## Hücre 15: Performans Değerlendirme Sonuçları\n",
    "performance_results = pd.DataFrame({\n",
    "    'Model': [\n",
    "        'Decision Tree', 'Linear Regression', 'Ridge Regression', 'Lasso Regression',\n",
    "        'ElasticNet Regression', 'KNN Regression', 'Gradient Boosting'\n",
    "    ],\n",
    "    'Mean Absolute Error (MAE)': [\n",
    "        mae_dt, mae_lr, mae_ridge, mae_lasso, mae_elasticnet, mae_knn, mae_gb\n",
    "    ],\n",
    "    'Root Mean Squared Error (RMSE)': [\n",
    "        rmse_dt, rmse_lr, rmse_ridge, rmse_lasso, rmse_elasticnet, rmse_knn, rmse_gb\n",
    "    ]\n",
    "})\n",
    "print(performance_results)"
   ]
  },
  {
   "cell_type": "code",
   "execution_count": 28,
   "metadata": {},
   "outputs": [
    {
     "data": {
      "image/png": "[encoded data removed]",
      "text/plain": [
       "<Figure size 1400x800 with 1 Axes>"
      ]
     },
     "metadata": {},
     "output_type": "display_data"
    }
   ],
   "source": [
    "# ## Hücre 16: Karşılaştırma Grafiği\n",
    "labels = [\n",
    "    'Decision Tree', 'Linear Regression', 'Ridge Regression', 'Lasso Regression',\n",
    "    'ElasticNet',  'KNN', 'Gradient Boosting'\n",
    "]\n",
    "mae_values = [\n",
    "    mae_dt, mae_lr, mae_ridge, mae_lasso, mae_elasticnet,  mae_knn, mae_gb\n",
    "]\n",
    "rmse_values = [\n",
    "    rmse_dt, rmse_lr, rmse_ridge, rmse_lasso, rmse_elasticnet,  rmse_knn, rmse_gb\n",
    "]\n",
    "\n",
    "x = np.arange(len(labels))  # the label locations\n",
    "width = 0.35  # the width of the bars\n",
    "\n",
    "fig, ax = plt.subplots(figsize=(14, 8))\n",
    "rects1 = ax.bar(x - width/2, mae_values, width, label='MAE')\n",
    "rects2 = ax.bar(x + width/2, rmse_values, width, label='RMSE')\n",
    "\n",
    "# Add some text for labels, title and custom x-axis tick labels, etc.\n",
    "ax.set_ylabel('Error Values')\n",
    "ax.set_title('Regression Model Performance Comparison')\n",
    "ax.set_xticks(x)\n",
    "ax.set_xticklabels(labels, rotation=45, ha='right')\n",
    "ax.legend()\n",
    "\n",
    "fig.tight_layout()\n",
    "plt.show()\n"
   ]
  },
  {
   "cell_type": "code",
   "execution_count": 33,
   "metadata": {},
   "outputs": [
    {
     "data": {
      "text/html": [
       "<div>\n",
       "<style scoped>\n",
       "    .dataframe tbody tr th:only-of-type {\n",
       "        vertical-align: middle;\n",
       "    }\n",
       "\n",
       "    .dataframe tbody tr th {\n",
       "        vertical-align: top;\n",
       "    }\n",
       "\n",
       "    .dataframe thead th {\n",
       "        text-align: right;\n",
       "    }\n",
       "</style>\n",
       "<table border=\"1\" class=\"dataframe\">\n",
       "  <thead>\n",
       "    <tr style=\"text-align: right;\">\n",
       "      <th></th>\n",
       "      <th>Actual Rating</th>\n",
       "      <th>Decision Tree Prediction</th>\n",
       "      <th>Linear Regression Prediction</th>\n",
       "      <th>Ridge Regression Prediction</th>\n",
       "      <th>Lasso Regression Prediction</th>\n",
       "      <th>ElasticNet Prediction</th>\n",
       "      <th>KNN Prediction</th>\n",
       "      <th>Gradient Boosting Prediction</th>\n",
       "    </tr>\n",
       "  </thead>\n",
       "  <tbody>\n",
       "    <tr>\n",
       "      <th>0</th>\n",
       "      <td>4.0</td>\n",
       "      <td>4.000000</td>\n",
       "      <td>3.578631</td>\n",
       "      <td>3.579717</td>\n",
       "      <td>3.582780</td>\n",
       "      <td>3.607520</td>\n",
       "      <td>4.000000</td>\n",
       "      <td>3.589440</td>\n",
       "    </tr>\n",
       "    <tr>\n",
       "      <th>1</th>\n",
       "      <td>2.0</td>\n",
       "      <td>2.777778</td>\n",
       "      <td>2.708448</td>\n",
       "      <td>2.707740</td>\n",
       "      <td>2.944114</td>\n",
       "      <td>2.891236</td>\n",
       "      <td>2.666667</td>\n",
       "      <td>2.767790</td>\n",
       "    </tr>\n",
       "    <tr>\n",
       "      <th>2</th>\n",
       "      <td>4.0</td>\n",
       "      <td>3.000000</td>\n",
       "      <td>3.198742</td>\n",
       "      <td>3.196902</td>\n",
       "      <td>3.329632</td>\n",
       "      <td>3.286541</td>\n",
       "      <td>3.333333</td>\n",
       "      <td>3.213028</td>\n",
       "    </tr>\n",
       "    <tr>\n",
       "      <th>3</th>\n",
       "      <td>5.0</td>\n",
       "      <td>4.000000</td>\n",
       "      <td>3.838421</td>\n",
       "      <td>3.836985</td>\n",
       "      <td>3.728011</td>\n",
       "      <td>3.729103</td>\n",
       "      <td>4.000000</td>\n",
       "      <td>3.948346</td>\n",
       "    </tr>\n",
       "    <tr>\n",
       "      <th>4</th>\n",
       "      <td>4.0</td>\n",
       "      <td>4.000000</td>\n",
       "      <td>3.383817</td>\n",
       "      <td>3.384862</td>\n",
       "      <td>3.494936</td>\n",
       "      <td>3.500698</td>\n",
       "      <td>3.000000</td>\n",
       "      <td>3.449993</td>\n",
       "    </tr>\n",
       "  </tbody>\n",
       "</table>\n",
       "</div>"
      ],
      "text/plain": [
       "   Actual Rating  Decision Tree Prediction  Linear Regression Prediction  \\\n",
       "0            4.0                  4.000000                      3.578631   \n",
       "1            2.0                  2.777778                      2.708448   \n",
       "2            4.0                  3.000000                      3.198742   \n",
       "3            5.0                  4.000000                      3.838421   \n",
       "4            4.0                  4.000000                      3.383817   \n",
       "\n",
       "   Ridge Regression Prediction  Lasso Regression Prediction  \\\n",
       "0                     3.579717                     3.582780   \n",
       "1                     2.707740                     2.944114   \n",
       "2                     3.196902                     3.329632   \n",
       "3                     3.836985                     3.728011   \n",
       "4                     3.384862                     3.494936   \n",
       "\n",
       "   ElasticNet Prediction  KNN Prediction  Gradient Boosting Prediction  \n",
       "0               3.607520        4.000000                      3.589440  \n",
       "1               2.891236        2.666667                      2.767790  \n",
       "2               3.286541        3.333333                      3.213028  \n",
       "3               3.729103        4.000000                      3.948346  \n",
       "4               3.500698        3.000000                      3.449993  "
      ]
     },
     "execution_count": 33,
     "metadata": {},
     "output_type": "execute_result"
    }
   ],
   "source": [
    "# ## Hücre 17: Tahminlerle Özelliklerin Birleştirilmesi\n",
    "#results_with_predictions = X_test_with_genres.copy()\n",
    "results_with_predictions = pd.DataFrame()\n",
    "results_with_predictions['Actual Rating'] = y_test.values\n",
    "results_with_predictions['Decision Tree Prediction'] = y_pred_dt\n",
    "results_with_predictions['Linear Regression Prediction'] = y_pred_lr\n",
    "results_with_predictions['Ridge Regression Prediction'] = y_pred_ridge\n",
    "results_with_predictions['Lasso Regression Prediction'] = y_pred_lasso\n",
    "results_with_predictions['ElasticNet Prediction'] = y_pred_elasticnet\n",
    "results_with_predictions['KNN Prediction'] = y_pred_knn\n",
    "results_with_predictions['Gradient Boosting Prediction'] = y_pred_gb\n",
    "\n",
    "(results_with_predictions.head())"
   ]
  },
  {
   "cell_type": "code",
   "execution_count": null,
   "metadata": {},
   "outputs": [],
   "source": []
  }
 ],
 "metadata": {
  "kernelspec": {
   "display_name": "base",
   "language": "python",
   "name": "python3"
  },
  "language_info": {
   "codemirror_mode": {
    "name": "ipython",
    "version": 3
   },
   "file_extension": ".py",
   "mimetype": "text/x-python",
   "name": "python",
   "nbconvert_exporter": "python",
   "pygments_lexer": "ipython3",
   "version": "3.11.5"
  }
 },
 "nbformat": 4,
 "nbformat_minor": 2
}
